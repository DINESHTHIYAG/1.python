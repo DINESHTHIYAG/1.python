{
 "cells": [
  {
   "cell_type": "code",
   "execution_count": 1,
   "id": "01a44350-8eed-4251-99fd-ba6bcb97c1a2",
   "metadata": {},
   "outputs": [
    {
     "name": "stdout",
     "output_type": "stream",
     "text": [
      "0\n",
      "1\n",
      "2\n",
      "3\n",
      "4\n",
      "5\n",
      "6\n",
      "7\n",
      "8\n",
      "9\n",
      "10\n",
      "11\n",
      "12\n",
      "13\n",
      "14\n",
      "15\n",
      "16\n",
      "17\n",
      "18\n",
      "19\n"
     ]
    }
   ],
   "source": [
    "for num in range (0,20):\n",
    "    print(num)\n",
    "         "
   ]
  },
  {
   "cell_type": "code",
   "execution_count": 4,
   "id": "0ba059ba-a709-483c-8bf6-f03cf16d2f68",
   "metadata": {},
   "outputs": [
    {
     "name": "stdout",
     "output_type": "stream",
     "text": [
      "10,11,12,13,14,15,16,17,18,19,"
     ]
    }
   ],
   "source": [
    "for num in range(10,20):\n",
    "    print(num, end=(','))"
   ]
  },
  {
   "cell_type": "code",
   "execution_count": null,
   "id": "cbb1e52c-e931-46ed-87fc-24dd19bd8a77",
   "metadata": {},
   "outputs": [],
   "source": [
    "lists=[10,20,14,55,43,87,76]\n",
    "print(\"Enter the number items in lists2:\")\n",
    "print(len(lists))"
   ]
  },
  {
   "cell_type": "code",
   "execution_count": null,
   "id": "2d4c1174-b66c-4f05-ac49-de1b428a3269",
   "metadata": {},
   "outputs": [],
   "source": [
    "lists=[20,'john',[10,20,30,40],56,'dinesh']\n",
    "print(len(lists))"
   ]
  },
  {
   "cell_type": "code",
   "execution_count": 5,
   "id": "7541b447-1bd7-4bc1-92cb-24b0c8e7ee86",
   "metadata": {},
   "outputs": [
    {
     "name": "stdout",
     "output_type": "stream",
     "text": [
      "artificial intellegence:\n"
     ]
    }
   ],
   "source": [
    "print(\"artificial intellegence:\")"
   ]
  },
  {
   "cell_type": "code",
   "execution_count": 8,
   "id": "2315f734-1321-4cc7-bed0-a61711a67169",
   "metadata": {},
   "outputs": [
    {
     "name": "stdin",
     "output_type": "stream",
     "text": [
      "your name: dinesh\n",
      "your age: 33\n",
      "enter your profession: be\n"
     ]
    }
   ],
   "source": [
    "name=input(\"your name:\")\n",
    "age=int(input(\"your age:\"))\n",
    "profession=input(\"enter your profession:\")"
   ]
  },
  {
   "cell_type": "code",
   "execution_count": 9,
   "id": "6f46c073-1fd9-4520-856b-d73f1772a841",
   "metadata": {},
   "outputs": [
    {
     "name": "stdout",
     "output_type": "stream",
     "text": [
      "(1, 'welcome', 2, 'hope')\n"
     ]
    }
   ],
   "source": [
    "tup=(1,'welcome',2,'hope')\n",
    "print(tup)"
   ]
  },
  {
   "cell_type": "code",
   "execution_count": 10,
   "id": "41e54bb4-15c9-46ff-9231-923d44527dac",
   "metadata": {},
   "outputs": [
    {
     "name": "stdout",
     "output_type": "stream",
     "text": [
      "(0, 1, 2, 'dinesh', 'suba')\n"
     ]
    }
   ],
   "source": [
    "tup1=(0,1,2)\n",
    "tup2=('dinesh','suba')\n",
    "tup3=tup1+tup2\n",
    "print(tup3)"
   ]
  },
  {
   "cell_type": "code",
   "execution_count": 11,
   "id": "952a43b6-4ee4-4d80-af17-6d4402536bfb",
   "metadata": {},
   "outputs": [
    {
     "name": "stdout",
     "output_type": "stream",
     "text": [
      "dinesh,dinesh,dinesh,\n"
     ]
    }
   ],
   "source": [
    "tup1=('dinesh,')*3\n",
    "print(tup1)"
   ]
  },
  {
   "cell_type": "code",
   "execution_count": 32,
   "id": "95d0495c-1802-42a2-ad2e-c005f57d81d5",
   "metadata": {},
   "outputs": [
    {
     "name": "stdout",
     "output_type": "stream",
     "text": [
      "dinesh\n",
      "dinesh\n",
      "dinesh\n",
      "dinesh\n",
      "dinesh\n",
      "dinesh\n",
      "dinesh\n",
      "dinesh\n"
     ]
    }
   ],
   "source": [
    "tup=('dinesh')\n",
    "n=8\n",
    "for i in range(int(n)):\n",
    "    print(tup)"
   ]
  },
  {
   "cell_type": "code",
   "execution_count": 13,
   "id": "85178371-745d-4350-ba97-1ace9fced203",
   "metadata": {},
   "outputs": [
    {
     "name": "stdout",
     "output_type": "stream",
     "text": [
      "()\n"
     ]
    }
   ],
   "source": [
    "tup=()\n",
    "print(tup)"
   ]
  },
  {
   "cell_type": "code",
   "execution_count": 18,
   "id": "eb57c157-721e-4081-967c-e4c630703d48",
   "metadata": {},
   "outputs": [
    {
     "name": "stdout",
     "output_type": "stream",
     "text": [
      "aftificial intelligence\n"
     ]
    }
   ],
   "source": [
    "tup=('aftificial intelligence')\n",
    "print(tup)"
   ]
  },
  {
   "cell_type": "code",
   "execution_count": 26,
   "id": "0b6dccea-286a-4ed5-a72e-08a533912aa1",
   "metadata": {},
   "outputs": [
    {
     "name": "stdout",
     "output_type": "stream",
     "text": [
      "(1, 2, 3)\n"
     ]
    }
   ],
   "source": [
    "li=[1,2,3]\n",
    "print(tuple(li))"
   ]
  },
  {
   "cell_type": "code",
   "execution_count": 28,
   "id": "399a3b84-456e-49de-9444-fc1ea49fec7e",
   "metadata": {},
   "outputs": [
    {
     "name": "stdout",
     "output_type": "stream",
     "text": [
      "('g', 'e', 'e', 'k', 's')\n"
     ]
    }
   ],
   "source": [
    "tup=tuple('geeks')\n",
    "print(tup)"
   ]
  },
  {
   "cell_type": "code",
   "execution_count": 47,
   "id": "d94e223a-a6c5-497c-a62e-4bebf2d4374b",
   "metadata": {},
   "outputs": [
    {
     "name": "stdout",
     "output_type": "stream",
     "text": [
      "even number\n",
      "even number\n",
      "even number\n",
      "odd number\n",
      "odd number\n",
      "odd number\n",
      "even number\n",
      "even number\n"
     ]
    }
   ],
   "source": [
    "lists=[20,10,16,19,25,1,276,188]\n",
    "for temp in lists:\n",
    "         if(temp%2==0):\n",
    "             print(\"even number\")\n",
    "         else:\n",
    "            print(\"odd number\")"
   ]
  },
  {
   "cell_type": "code",
   "execution_count": null,
   "id": "5e282ea1-6553-4c6b-ae0d-84ea24c53289",
   "metadata": {},
   "outputs": [],
   "source": []
  }
 ],
 "metadata": {
  "kernelspec": {
   "display_name": "Python 3 (ipykernel)",
   "language": "python",
   "name": "python3"
  },
  "language_info": {
   "codemirror_mode": {
    "name": "ipython",
    "version": 3
   },
   "file_extension": ".py",
   "mimetype": "text/x-python",
   "name": "python",
   "nbconvert_exporter": "python",
   "pygments_lexer": "ipython3",
   "version": "3.12.7"
  }
 },
 "nbformat": 4,
 "nbformat_minor": 5
}
