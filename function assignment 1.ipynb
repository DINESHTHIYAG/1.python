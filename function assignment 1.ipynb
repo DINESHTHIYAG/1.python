{
 "cells": [
  {
   "cell_type": "code",
   "execution_count": 19,
   "id": "b74b42bf-b4ad-4dc7-a66b-cc54c9450b29",
   "metadata": {},
   "outputs": [],
   "source": [
    "def subfields():\n",
    "    print(\"subfields in AI are:\")\n",
    "    print(\"machine learning\")\n",
    "    print(\"neural networks\")\n",
    "    print(\"vision\")\n",
    "    print(\"Robotics\")\n",
    "    print(\"peech processing\")\n",
    "    print(\"Natural language processing\")"
   ]
  },
  {
   "cell_type": "code",
   "execution_count": 20,
   "id": "124fb703-e7b4-4bb7-9cca-2f01c403fda8",
   "metadata": {},
   "outputs": [
    {
     "name": "stdout",
     "output_type": "stream",
     "text": [
      "subfields in AI are:\n",
      "machine learning\n",
      "neural networks\n",
      "vision\n",
      "Robotics\n",
      "peech processing\n",
      "Natural language processing\n"
     ]
    }
   ],
   "source": [
    "subfields()"
   ]
  },
  {
   "cell_type": "code",
   "execution_count": 21,
   "id": "a7db1c88-57d1-4f70-bb96-8f2054e0b3d2",
   "metadata": {},
   "outputs": [],
   "source": [
    "def oddEven():\n",
    "    num=int(input(\"enter the number:\"))\n",
    "    if ((num%2)==0):\n",
    "        print(\"even number\")\n",
    "        message=\"even number\"\n",
    "    else:\n",
    "        print(\"odd number\")\n",
    "        message=\"odd number\"\n",
    "    return message"
   ]
  },
  {
   "cell_type": "code",
   "execution_count": 22,
   "id": "9b5ceded-9f5e-4c2a-af26-dfca7d1cb142",
   "metadata": {},
   "outputs": [
    {
     "name": "stdin",
     "output_type": "stream",
     "text": [
      "enter the number: 52452\n"
     ]
    },
    {
     "name": "stdout",
     "output_type": "stream",
     "text": [
      "even number\n"
     ]
    }
   ],
   "source": [
    "message=oddEven()"
   ]
  },
  {
   "cell_type": "code",
   "execution_count": 14,
   "id": "5552b0cf-b8ca-4a97-8cb1-23b1ff821c7a",
   "metadata": {},
   "outputs": [],
   "source": [
    "def eligible():\n",
    "    gender=input(\"enter the gender:\")\n",
    "    age=int(input(\"enter the age:\"))\n",
    "    if (age<=18 and gender==\"female\"):\n",
    "        print(\"Not elgible\")\n",
    "        message=\"Not elgible\"\n",
    "    elif (age<=21 and gender==\"male\"):\n",
    "        print(\"Not elgible\")\n",
    "        message=\"Not elgible\"\n",
    "    else:\n",
    "        print(\"Elgible\")\n",
    "        message=\"Elgible\"\n",
    "    return message"
   ]
  },
  {
   "cell_type": "code",
   "execution_count": 15,
   "id": "b7678169-bf5a-4a9a-8167-5a5ae0a725ed",
   "metadata": {},
   "outputs": [
    {
     "name": "stdin",
     "output_type": "stream",
     "text": [
      "enter the gender: male\n",
      "enter the age: 22\n"
     ]
    },
    {
     "name": "stdout",
     "output_type": "stream",
     "text": [
      "Elgible\n"
     ]
    }
   ],
   "source": [
    "ElgibleForMarriage=eligible()"
   ]
  },
  {
   "cell_type": "code",
   "execution_count": 54,
   "id": "5bb4d4f1-d05d-4934-9227-7a7225fb79fc",
   "metadata": {},
   "outputs": [],
   "source": [
    "def percentage():\n",
    "    print(\"Enter the obtained marks in 5 subjects\")\n",
    "    sub1=int(input(\"sub1=\"))\n",
    "    sub2=int(input(\"sub2=\"))\n",
    "    sub3=int(input(\"sub3=\"))\n",
    "    sub4=int(input(\"sub4=\"))\n",
    "    sub5=int(input(\"sub5=\"))\n",
    "    Total=sub1+sub2+sub3+sub4+sub5\n",
    "    print(\"Total=\") \n",
    "    print(Total)\n",
    "    percentage=(Total/500)*100\n",
    "    print(\"percentage of marks=\") \n",
    "    print(percentage)\n",
    "    "
   ]
  },
  {
   "cell_type": "code",
   "execution_count": 55,
   "id": "55b7e18e-29d8-46f1-8558-46bd26309486",
   "metadata": {},
   "outputs": [
    {
     "name": "stdout",
     "output_type": "stream",
     "text": [
      "Enter the obtained marks in 5 subjects\n"
     ]
    },
    {
     "name": "stdin",
     "output_type": "stream",
     "text": [
      "sub1= 98\n",
      "sub2= 87\n",
      "sub3= 95\n",
      "sub4= 95\n",
      "sub5= 93\n"
     ]
    },
    {
     "name": "stdout",
     "output_type": "stream",
     "text": [
      "Total=\n",
      "468\n",
      "percentage of marks=\n",
      "93.60000000000001\n"
     ]
    }
   ],
   "source": [
    "percentageofmarks=percentage()"
   ]
  },
  {
   "cell_type": "code",
   "execution_count": 63,
   "id": "f7084a2c-eb1a-4a28-b82d-b89483ce8551",
   "metadata": {},
   "outputs": [],
   "source": [
    "def triangle():\n",
    "    Height=int(input(\"Height:\"))\n",
    "    weight=int(input(\"Weight:\"))\n",
    "    AreaofTriangle=(Height*weight)/2\n",
    "    print(\"Area of Triangle=\")\n",
    "    print(AreaofTriangle)\n",
    "    Height1=int(input(\"Height1:\"))\n",
    "    Height2=int(input(\"Height2:\"))\n",
    "    Breath=int(input(\"Breath:\"))\n",
    "    perimeterofTraingle=Height1+Height2+Breath\n",
    "    print(\"Perimeter of Triangle=\")\n",
    "    print(perimeterofTraingle)"
   ]
  },
  {
   "cell_type": "code",
   "execution_count": 64,
   "id": "726cd01f-5f2a-44a0-95aa-7156ec2b7ac7",
   "metadata": {},
   "outputs": [
    {
     "name": "stdin",
     "output_type": "stream",
     "text": [
      "Height: 32\n",
      "Weight: 34\n"
     ]
    },
    {
     "name": "stdout",
     "output_type": "stream",
     "text": [
      "Area of Triangle=\n",
      "544.0\n"
     ]
    },
    {
     "name": "stdin",
     "output_type": "stream",
     "text": [
      "Height1: 2\n",
      "Height2: 4\n",
      "Breath: 4\n"
     ]
    },
    {
     "name": "stdout",
     "output_type": "stream",
     "text": [
      "Perimeter of Triangle=\n",
      "10\n"
     ]
    }
   ],
   "source": [
    "triangleformula=triangle()\n"
   ]
  },
  {
   "cell_type": "code",
   "execution_count": null,
   "id": "24e3135b-7ab6-4ba9-9ad7-0ccbc652bd34",
   "metadata": {},
   "outputs": [],
   "source": []
  }
 ],
 "metadata": {
  "kernelspec": {
   "display_name": "Python 3 (ipykernel)",
   "language": "python",
   "name": "python3"
  },
  "language_info": {
   "codemirror_mode": {
    "name": "ipython",
    "version": 3
   },
   "file_extension": ".py",
   "mimetype": "text/x-python",
   "name": "python",
   "nbconvert_exporter": "python",
   "pygments_lexer": "ipython3",
   "version": "3.12.7"
  }
 },
 "nbformat": 4,
 "nbformat_minor": 5
}
