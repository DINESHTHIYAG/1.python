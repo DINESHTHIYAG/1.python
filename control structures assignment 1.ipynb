{
 "cells": [
  {
   "cell_type": "raw",
   "id": "7a316831-dcfc-45bb-98c2-e1a42a88d9e3",
   "metadata": {},
   "source": [
    "print(\"welcome to assignment-1\")"
   ]
  },
  {
   "cell_type": "code",
   "execution_count": 1,
   "id": "1663dff1-a3e1-427a-8540-33077838db16",
   "metadata": {},
   "outputs": [
    {
     "name": "stdout",
     "output_type": "stream",
     "text": [
      "welcome to assignment-1\n"
     ]
    }
   ],
   "source": [
    "print(\"welcome to assignment-1\")"
   ]
  },
  {
   "cell_type": "code",
   "execution_count": 4,
   "id": "2d0d320f-ad23-46f5-b410-02469221968e",
   "metadata": {},
   "outputs": [
    {
     "name": "stdout",
     "output_type": "stream",
     "text": [
      "40\n"
     ]
    }
   ],
   "source": [
    "num1=10\n",
    "num2=30\n",
    "add=num1+num2\n",
    "print(add)"
   ]
  },
  {
   "cell_type": "code",
   "execution_count": 11,
   "id": "c949ef64-8660-4850-a893-852e97fa2ad3",
   "metadata": {},
   "outputs": [
    {
     "name": "stdin",
     "output_type": "stream",
     "text": [
      "Enter the weight: 34\n"
     ]
    }
   ],
   "source": [
    "weight=int(input(\"Enter the weight:\"))\n",
    "        "
   ]
  },
  {
   "cell_type": "code",
   "execution_count": 12,
   "id": "211d2028-85a7-4729-9b5f-3fdc90220113",
   "metadata": {},
   "outputs": [
    {
     "name": "stdout",
     "output_type": "stream",
     "text": [
      "very overweight\n"
     ]
    }
   ],
   "source": [
    "if(weight<18.5):\n",
    "    print(\"under weight\")\n",
    "elif(weight<24.9):\n",
    "    print(\"Normal weight\")\n",
    "elif(weight<29.9):\n",
    "    print(\"over weight\")\n",
    "else:\n",
    "    print(\"very overweight\")\n"
   ]
  },
  {
   "cell_type": "code",
   "execution_count": null,
   "id": "790e580c-f75c-43f2-ae5a-9a4d9e6cfd48",
   "metadata": {},
   "outputs": [],
   "source": []
  }
 ],
 "metadata": {
  "kernelspec": {
   "display_name": "Python 3 (ipykernel)",
   "language": "python",
   "name": "python3"
  },
  "language_info": {
   "codemirror_mode": {
    "name": "ipython",
    "version": 3
   },
   "file_extension": ".py",
   "mimetype": "text/x-python",
   "name": "python",
   "nbconvert_exporter": "python",
   "pygments_lexer": "ipython3",
   "version": "3.12.7"
  }
 },
 "nbformat": 4,
 "nbformat_minor": 5
}
