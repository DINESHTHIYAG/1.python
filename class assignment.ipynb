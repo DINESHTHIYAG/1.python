{
 "cells": [
  {
   "cell_type": "code",
   "execution_count": 7,
   "id": "4ac6ebfe-aa6f-4295-9ab9-b106f51323d5",
   "metadata": {},
   "outputs": [],
   "source": [
    "class multifunctions():\n",
    "    def subfields():\n",
    "        print(\"subfields in AI are:\")\n",
    "        print(\"machine learning\")\n",
    "        print(\"neural networks\")\n",
    "        print(\"vision\")\n",
    "        print(\"Robotics\")\n",
    "        print(\"peech processing\")\n",
    "        print(\"Natural language processing\")\n",
    "    def oddEven():\n",
    "        num=int(input(\"enter the number:\"))\n",
    "        if ((num%2)==0):\n",
    "            print(\"even number\")\n",
    "            message=\"even number\"\n",
    "        else:\n",
    "            print(\"odd number\")\n",
    "            message=\"odd number\"\n",
    "        return message\n",
    "    def MarriageEligible():\n",
    "        gender=input(\"enter the gender:\")\n",
    "        age=int(input(\"enter the age:\"))\n",
    "        if (age<=18 and gender==\"female\"):\n",
    "            print(\"Not elgible\")\n",
    "            message=\"Not elgible\"\n",
    "        elif (age<=21 and gender==\"male\"):\n",
    "            print(\"Not elgible\")\n",
    "            message=\"Not elgible\"\n",
    "        else:\n",
    "            print(\"Elgible\")\n",
    "            message=\"Elgible\"\n",
    "        return message\n",
    "    def percentage():\n",
    "        print(\"Enter the obtained marks in 5 subjects\")\n",
    "        sub1=int(input(\"sub1=\"))\n",
    "        sub2=int(input(\"sub2=\"))\n",
    "        sub3=int(input(\"sub3=\"))\n",
    "        sub4=int(input(\"sub4=\"))\n",
    "        sub5=int(input(\"sub5=\"))\n",
    "        Total=sub1+sub2+sub3+sub4+sub5\n",
    "        print(\"Total=\") \n",
    "        print(Total)\n",
    "        percentage=(Total/500)*100\n",
    "        print(\"percentage of marks=\",percentage) \n",
    "    def triangle():\n",
    "        Height=int(input(\"Height:\"))\n",
    "        weight=int(input(\"Weight:\"))\n",
    "        AreaofTriangle=(Height*weight)/2\n",
    "        print(\"Area of Triangle=\",AreaofTriangle)\n",
    "        Height1=int(input(\"Height1:\"))\n",
    "        Height2=int(input(\"Height2:\"))\n",
    "        Breath=int(input(\"Breath:\"))\n",
    "        perimeterofTraingle=Height1+Height2+Breath\n",
    "        print(\"Perimeter of Triangle=\",perimeterofTraingle)"
   ]
  },
  {
   "cell_type": "code",
   "execution_count": 4,
   "id": "f51e44de-28c9-44f9-9456-9c255d95dfd2",
   "metadata": {},
   "outputs": [
    {
     "name": "stdin",
     "output_type": "stream",
     "text": [
      "enter the number: 52452\n"
     ]
    },
    {
     "name": "stdout",
     "output_type": "stream",
     "text": [
      "even number\n"
     ]
    },
    {
     "data": {
      "text/plain": [
       "'even number'"
      ]
     },
     "execution_count": 4,
     "metadata": {},
     "output_type": "execute_result"
    }
   ],
   "source": [
    "multifunctions.oddEven()"
   ]
  },
  {
   "cell_type": "code",
   "execution_count": 5,
   "id": "e6ee2af9-9851-48b2-b03a-05e1895f2cab",
   "metadata": {},
   "outputs": [
    {
     "name": "stdout",
     "output_type": "stream",
     "text": [
      "subfields in AI are:\n",
      "machine learning\n",
      "neural networks\n",
      "vision\n",
      "Robotics\n",
      "peech processing\n",
      "Natural language processing\n"
     ]
    }
   ],
   "source": [
    "multifunctions.subfields()"
   ]
  },
  {
   "cell_type": "code",
   "execution_count": 8,
   "id": "7375edd7-2d3e-47ef-ad38-4ed6171203fa",
   "metadata": {},
   "outputs": [
    {
     "name": "stdin",
     "output_type": "stream",
     "text": [
      "enter the gender: MALE\n",
      "enter the age: 20\n"
     ]
    },
    {
     "name": "stdout",
     "output_type": "stream",
     "text": [
      "Elgible\n"
     ]
    },
    {
     "data": {
      "text/plain": [
       "'Elgible'"
      ]
     },
     "execution_count": 8,
     "metadata": {},
     "output_type": "execute_result"
    }
   ],
   "source": [
    "multifunctions.MarriageEligible()"
   ]
  },
  {
   "cell_type": "code",
   "execution_count": 9,
   "id": "2de7a882-c2e0-46fd-b903-0d8bc6fff1fe",
   "metadata": {},
   "outputs": [
    {
     "name": "stdout",
     "output_type": "stream",
     "text": [
      "Enter the obtained marks in 5 subjects\n"
     ]
    },
    {
     "name": "stdin",
     "output_type": "stream",
     "text": [
      "sub1= 98\n",
      "sub2= 87\n",
      "sub3= 95\n",
      "sub4= 95\n",
      "sub5= 93\n"
     ]
    },
    {
     "name": "stdout",
     "output_type": "stream",
     "text": [
      "Total=\n",
      "468\n",
      "percentage of marks= 93.60000000000001\n"
     ]
    }
   ],
   "source": [
    "multifunctions.percentage()"
   ]
  },
  {
   "cell_type": "code",
   "execution_count": 10,
   "id": "4d764de9-8db5-47e9-b6ec-45cb7448fbfc",
   "metadata": {},
   "outputs": [
    {
     "name": "stdin",
     "output_type": "stream",
     "text": [
      "Height: 32\n",
      "Weight: 34\n"
     ]
    },
    {
     "name": "stdout",
     "output_type": "stream",
     "text": [
      "Area of Triangle= 544.0\n"
     ]
    },
    {
     "name": "stdin",
     "output_type": "stream",
     "text": [
      "Height1: 2\n",
      "Height2: 4\n",
      "Breath: 4\n"
     ]
    },
    {
     "name": "stdout",
     "output_type": "stream",
     "text": [
      "Perimeter of Triangle= 10\n"
     ]
    }
   ],
   "source": [
    "multifunctions.triangle()"
   ]
  },
  {
   "cell_type": "code",
   "execution_count": null,
   "id": "3a1b0ab0-28b5-4e4a-af3c-d609d56148c7",
   "metadata": {},
   "outputs": [],
   "source": []
  }
 ],
 "metadata": {
  "kernelspec": {
   "display_name": "Python 3 (ipykernel)",
   "language": "python",
   "name": "python3"
  },
  "language_info": {
   "codemirror_mode": {
    "name": "ipython",
    "version": 3
   },
   "file_extension": ".py",
   "mimetype": "text/x-python",
   "name": "python",
   "nbconvert_exporter": "python",
   "pygments_lexer": "ipython3",
   "version": "3.12.7"
  }
 },
 "nbformat": 4,
 "nbformat_minor": 5
}
