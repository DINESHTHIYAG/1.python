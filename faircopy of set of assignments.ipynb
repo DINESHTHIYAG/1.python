{
 "cells": [
  {
   "cell_type": "code",
   "execution_count": 2,
   "id": "2b60dbc1-575b-48e9-bcea-07ba36081ef4",
   "metadata": {},
   "outputs": [],
   "source": [
    "from setofassignments import multifunctions"
   ]
  },
  {
   "cell_type": "code",
   "execution_count": 3,
   "id": "0bf8037e-0264-4b8c-9327-4f0831c201c0",
   "metadata": {},
   "outputs": [
    {
     "name": "stdout",
     "output_type": "stream",
     "text": [
      "subfields in AI are:\n",
      "machine learning\n",
      "neural networks\n",
      "vision\n",
      "Robotics\n",
      "peech processing\n",
      "Natural language processing\n"
     ]
    }
   ],
   "source": [
    "multifunctions.subfields()"
   ]
  },
  {
   "cell_type": "code",
   "execution_count": 4,
   "id": "fa11e41c-6cfe-465e-a7eb-451f8cee69b7",
   "metadata": {},
   "outputs": [
    {
     "name": "stdin",
     "output_type": "stream",
     "text": [
      "enter the number: 52452\n"
     ]
    },
    {
     "name": "stdout",
     "output_type": "stream",
     "text": [
      "even number\n"
     ]
    },
    {
     "data": {
      "text/plain": [
       "'even number'"
      ]
     },
     "execution_count": 4,
     "metadata": {},
     "output_type": "execute_result"
    }
   ],
   "source": [
    "multifunctions.oddEven()"
   ]
  },
  {
   "cell_type": "code",
   "execution_count": 5,
   "id": "f5364814-c7fc-4880-842a-7096802980d1",
   "metadata": {},
   "outputs": [
    {
     "name": "stdin",
     "output_type": "stream",
     "text": [
      "enter the gender: male\n",
      "enter the age: 20\n"
     ]
    },
    {
     "name": "stdout",
     "output_type": "stream",
     "text": [
      "Not elgible\n"
     ]
    },
    {
     "data": {
      "text/plain": [
       "'Not elgible'"
      ]
     },
     "execution_count": 5,
     "metadata": {},
     "output_type": "execute_result"
    }
   ],
   "source": [
    "multifunctions.MarriageEligible()"
   ]
  },
  {
   "cell_type": "code",
   "execution_count": 6,
   "id": "38f38f4e-e95e-4538-a1c6-d64cae473a56",
   "metadata": {},
   "outputs": [
    {
     "name": "stdout",
     "output_type": "stream",
     "text": [
      "Enter the obtained marks in 5 subjects\n"
     ]
    },
    {
     "name": "stdin",
     "output_type": "stream",
     "text": [
      "sub1= 98\n",
      "sub2= 87\n",
      "sub3= 95\n",
      "sub4= 95\n",
      "sub5= 93\n"
     ]
    },
    {
     "name": "stdout",
     "output_type": "stream",
     "text": [
      "Total=\n",
      "468\n",
      "percentage of marks= 93.60000000000001\n"
     ]
    }
   ],
   "source": [
    "multifunctions.percentage()"
   ]
  },
  {
   "cell_type": "code",
   "execution_count": 7,
   "id": "a3ca3682-e947-4c7a-aac9-3fb1e022c538",
   "metadata": {},
   "outputs": [
    {
     "name": "stdin",
     "output_type": "stream",
     "text": [
      "Height: 32\n",
      "Weight: 34\n"
     ]
    },
    {
     "name": "stdout",
     "output_type": "stream",
     "text": [
      "Area of Triangle= 544.0\n"
     ]
    },
    {
     "name": "stdin",
     "output_type": "stream",
     "text": [
      "Height1: 2\n",
      "Height2: 4\n",
      "Breath: 4\n"
     ]
    },
    {
     "name": "stdout",
     "output_type": "stream",
     "text": [
      "Perimeter of Triangle= 10\n"
     ]
    }
   ],
   "source": [
    "multifunctions.triangle()"
   ]
  },
  {
   "cell_type": "code",
   "execution_count": null,
   "id": "1e932b18-d2be-48c7-aff5-fcb83a38b0fe",
   "metadata": {},
   "outputs": [],
   "source": []
  }
 ],
 "metadata": {
  "kernelspec": {
   "display_name": "Python 3 (ipykernel)",
   "language": "python",
   "name": "python3"
  },
  "language_info": {
   "codemirror_mode": {
    "name": "ipython",
    "version": 3
   },
   "file_extension": ".py",
   "mimetype": "text/x-python",
   "name": "python",
   "nbconvert_exporter": "python",
   "pygments_lexer": "ipython3",
   "version": "3.12.7"
  }
 },
 "nbformat": 4,
 "nbformat_minor": 5
}
